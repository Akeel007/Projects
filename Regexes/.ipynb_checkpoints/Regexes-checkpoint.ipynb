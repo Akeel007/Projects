{
 "cells": [
  {
   "cell_type": "code",
   "execution_count": 2,
   "metadata": {},
   "outputs": [
    {
     "data": {
      "text/plain": [
       "<re.Match object; span=(6, 18), match='415-555-9999'>"
      ]
     },
     "execution_count": 2,
     "metadata": {},
     "output_type": "execute_result"
    }
   ],
   "source": [
    "# Import the regex module\n",
    "import re\n",
    "# Create a regex object with re.compile() \n",
    "phoneRegex = re.compile(r'\\d\\d\\d-\\d\\d\\d-\\d\\d\\d\\d')\n",
    "# Pass the string to be searched into the search method  \n",
    "match_object = phoneRegex.search('Cell: 415-555-9999 Work: 212-555-0000')\n",
    "match_object"
   ]
  },
  {
   "cell_type": "code",
   "execution_count": 3,
   "metadata": {},
   "outputs": [
    {
     "data": {
      "text/plain": [
       "'415-555-9999'"
      ]
     },
     "execution_count": 3,
     "metadata": {},
     "output_type": "execute_result"
    }
   ],
   "source": [
    "# Call the match object's group() method to return a string of the matched text\n",
    "match_object.group()"
   ]
  },
  {
   "cell_type": "code",
   "execution_count": 4,
   "metadata": {
    "scrolled": true
   },
   "outputs": [
    {
     "data": {
      "text/plain": [
       "['415-555-9999', '212-555-0000']"
      ]
     },
     "execution_count": 4,
     "metadata": {},
     "output_type": "execute_result"
    }
   ],
   "source": [
    "import re\n",
    "pattern = r'\\d\\d\\d-\\d\\d\\d-\\d\\d\\d\\d'\n",
    "string = 'Cell: 415-555-9999 Work: 212-555-0000'\n",
    "re.findall(pattern,string)"
   ]
  },
  {
   "cell_type": "code",
   "execution_count": 5,
   "metadata": {},
   "outputs": [
    {
     "data": {
      "text/plain": [
       "['a', 'a', 'b', 'a', 'b', 'c']"
      ]
     },
     "execution_count": 5,
     "metadata": {},
     "output_type": "execute_result"
    }
   ],
   "source": [
    "re.findall(r'[abc]','a ab abc de')"
   ]
  },
  {
   "cell_type": "code",
   "execution_count": 6,
   "metadata": {},
   "outputs": [
    {
     "data": {
      "text/plain": [
       "<re.Match object; span=(13, 25), match='415-555-4242'>"
      ]
     },
     "execution_count": 6,
     "metadata": {},
     "output_type": "execute_result"
    }
   ],
   "source": [
    "phoneNumRegex = re.compile(r'(\\d\\d\\d)-(\\d\\d\\d-\\d\\d\\d\\d)')\n",
    "mo = phoneNumRegex.search('My number is 415-555-4242.')\n",
    "mo"
   ]
  },
  {
   "cell_type": "markdown",
   "metadata": {},
   "source": [
    "# Square Brackets "
   ]
  },
  {
   "cell_type": "code",
   "execution_count": 7,
   "metadata": {},
   "outputs": [
    {
     "name": "stdout",
     "output_type": "stream",
     "text": [
      "['b', 'c']\n",
      "['c', 'a', 'a', 'c']\n",
      "[]\n"
     ]
    }
   ],
   "source": [
    "pattern = r'[abc]' # same as [a-c]\n",
    "string1 = 'Abc,xyz,de'\n",
    "string2 = 'car,aec'\n",
    "string3 = 'def'\n",
    "print(re.findall(pattern,string1)) \n",
    "print(re.findall(pattern,string2)) \n",
    "print(re.findall(pattern,string3)) "
   ]
  },
  {
   "cell_type": "code",
   "execution_count": 8,
   "metadata": {
    "scrolled": true
   },
   "outputs": [
    {
     "name": "stdout",
     "output_type": "stream",
     "text": [
      "Phone number found: 132-222-7218\n",
      "Phone number found: 132-222-1111\n"
     ]
    }
   ],
   "source": [
    "# Without using Regular Expressions\n",
    "def isPhoneNumber(text):\n",
    "    if len(text) != 12: # not size of phone number\n",
    "        return False\n",
    "    for i in range(0,3):\n",
    "        if not text[i].isdecimal():\n",
    "            return False # no area code\n",
    "    if text[3] != '-':\n",
    "        return False # missing dash\n",
    "    for i in range(4,7):\n",
    "        if not text[i].isdecimal():\n",
    "            return False # no first 3 digits\n",
    "    if text[7] != '-':\n",
    "        return False # missing dash\n",
    "    for i in range(8,12):\n",
    "        if not text[i].isdecimal():\n",
    "            return False # no last 4 digits\n",
    "    return True\n",
    "\n",
    "message = 'Call me at 132-222-7218, or at 132-222-1111'\n",
    "foundNumber = False\n",
    "for i in range(len(message)):\n",
    "    chunk = message[i:i+12]\n",
    "    if isPhoneNumber(chunk):\n",
    "        print('Phone number found: ' + chunk)\n",
    "        foundNumber = True\n",
    "if not foundNumber:\n",
    "    print('Could not find any phone numbers.')"
   ]
  },
  {
   "cell_type": "code",
   "execution_count": 9,
   "metadata": {
    "scrolled": true
   },
   "outputs": [
    {
     "name": "stdout",
     "output_type": "stream",
     "text": [
      "Phone Number found: 132-222-7218\n",
      "Phone Number found: 132-222-1111\n"
     ]
    }
   ],
   "source": [
    "# Using Regular Expressions\n",
    "a = re.findall(r'\\d{3}-\\d{3}-\\d{4}', 'Call me at 132-222-7218, or at 132-222-1111')\n",
    "for i in range(len(a)):\n",
    "    print('Phone Number found: '+ a[i])"
   ]
  },
  {
   "cell_type": "markdown",
   "metadata": {},
   "source": [
    "# Period"
   ]
  },
  {
   "cell_type": "code",
   "execution_count": 13,
   "metadata": {},
   "outputs": [
    {
     "name": "stdout",
     "output_type": "stream",
     "text": [
      "['zs', 'as', 'es']\n",
      "['&s', '2s', ':s']\n",
      "[]\n"
     ]
    }
   ],
   "source": [
    "pattern = r'.s' \n",
    "string1 = 'zs,as,es'\n",
    "string2 = '&s,42sc,:s'\n",
    "string3 = 'def'\n",
    "print(re.findall(pattern,string1)) \n",
    "print(re.findall(pattern,string2)) \n",
    "print(re.findall(pattern,string3)) "
   ]
  },
  {
   "cell_type": "code",
   "execution_count": null,
   "metadata": {},
   "outputs": [],
   "source": []
  }
 ],
 "metadata": {
  "kernelspec": {
   "display_name": "Python 3",
   "language": "python",
   "name": "python3"
  },
  "language_info": {
   "codemirror_mode": {
    "name": "ipython",
    "version": 3
   },
   "file_extension": ".py",
   "mimetype": "text/x-python",
   "name": "python",
   "nbconvert_exporter": "python",
   "pygments_lexer": "ipython3",
   "version": "3.7.1"
  }
 },
 "nbformat": 4,
 "nbformat_minor": 2
}
