{
 "cells": [
  {
   "cell_type": "markdown",
   "metadata": {},
   "source": [
    "# Step 1) Read Data from Google Cloud Storage"
   ]
  },
  {
   "cell_type": "code",
   "execution_count": 3,
   "metadata": {},
   "outputs": [],
   "source": [
    "dfTaxi = spark.read.format(\"csv\").option(\"header\", \"true\").option(\"inferschema\", \"true\").load(\"gs://<bucket-name>/train.csv\")"
   ]
  },
  {
   "cell_type": "code",
   "execution_count": 40,
   "metadata": {},
   "outputs": [
    {
     "data": {
      "text/plain": [
       "Row(TRIP_ID=1372636858620000589, CALL_TYPE=u'C', ORIGIN_CALL=None, ORIGIN_STAND=None, TAXI_ID=20000589, TIMESTAMP=1372636858, DAY_TYPE=u'A', MISSING_DATA=False, POLYLINE=u'[[-8.618643,41.141412],[-8.618499,41.141376],[-8.620326,41.14251],[-8.622153,41.143815],[-8.623953,41.144373],[-8.62668,41.144778],[-8.627373,41.144697],[-8.630226,41.14521],[-8.632746,41.14692],[-8.631738,41.148225],[-8.629938,41.150385],[-8.62911,41.151213],[-8.629128,41.15124],[-8.628786,41.152203],[-8.628687,41.152374],[-8.628759,41.152518],[-8.630838,41.15268],[-8.632323,41.153022],[-8.631144,41.154489],[-8.630829,41.154507],[-8.630829,41.154516],[-8.630829,41.154498],[-8.630838,41.154489]]')"
      ]
     },
     "execution_count": 40,
     "metadata": {},
     "output_type": "execute_result"
    }
   ],
   "source": [
    "dfTaxi.head()"
   ]
  },
  {
   "cell_type": "markdown",
   "metadata": {},
   "source": [
    "# Step 2) Save the Data"
   ]
  },
  {
   "cell_type": "code",
   "execution_count": 8,
   "metadata": {},
   "outputs": [],
   "source": [
    "dfTaxi.write.mode(\"overwrite\").option(\"header\", \"true\").format(\"csv\").saveAsTable(\"TaxiCSV\")"
   ]
  },
  {
   "cell_type": "code",
   "execution_count": 9,
   "metadata": {},
   "outputs": [],
   "source": [
    "dfTaxi.write.mode(\"overwrite\").option(\"header\", \"true\").format(\"parquet\").saveAsTable(\"TaxiParquet\")"
   ]
  },
  {
   "cell_type": "markdown",
   "metadata": {},
   "source": [
    "# Step 3) Query Data"
   ]
  },
  {
   "cell_type": "markdown",
   "metadata": {},
   "source": [
    "## Simple Queries"
   ]
  },
  {
   "cell_type": "code",
   "execution_count": 39,
   "metadata": {},
   "outputs": [
    {
     "name": "stdout",
     "output_type": "stream",
     "text": [
      "+--------+\n",
      "|count(1)|\n",
      "+--------+\n",
      "| 1710670|\n",
      "+--------+\n",
      "\n",
      "CPU times: user 0 ns, sys: 0 ns, total: 0 ns\n",
      "Wall time: 8.11 µs\n"
     ]
    }
   ],
   "source": [
    "sqlContext.sql(\"\"\"\n",
    "SELECT COUNT(*)\n",
    "FROM TaxiCSV\n",
    "\"\"\").show()\n",
    "%time"
   ]
  },
  {
   "cell_type": "code",
   "execution_count": 23,
   "metadata": {},
   "outputs": [
    {
     "name": "stdout",
     "output_type": "stream",
     "text": [
      "+--------+\n",
      "|count(1)|\n",
      "+--------+\n",
      "| 1710670|\n",
      "+--------+\n",
      "\n",
      "CPU times: user 0 ns, sys: 0 ns, total: 0 ns\n",
      "Wall time: 6.91 µs\n"
     ]
    }
   ],
   "source": [
    "sqlContext.sql(\"\"\"\n",
    "SELECT COUNT(*)\n",
    "FROM TaxiParquet\n",
    "\"\"\").show()\n",
    "%time"
   ]
  },
  {
   "cell_type": "markdown",
   "metadata": {},
   "source": [
    "## Complex Queries"
   ]
  },
  {
   "cell_type": "markdown",
   "metadata": {},
   "source": [
    "## #1 "
   ]
  },
  {
   "cell_type": "code",
   "execution_count": 41,
   "metadata": {},
   "outputs": [
    {
     "name": "stdout",
     "output_type": "stream",
     "text": [
      "+----------------+--------------------+-------------------+\n",
      "|Trips_On_Holiday|Trips_Before_Holiday|Trips_On_NormalDays|\n",
      "+----------------+--------------------+-------------------+\n",
      "|               0|                   0|            1710670|\n",
      "+----------------+--------------------+-------------------+\n",
      "\n",
      "CPU times: user 0 ns, sys: 0 ns, total: 0 ns\n",
      "Wall time: 8.11 µs\n"
     ]
    }
   ],
   "source": [
    "sqlContext.sql(\n",
    "\"\"\"\n",
    "SELECT SUM(Case when DAY_TYPE = 'B' then 1 else 0 end) as Trips_On_Holiday\n",
    "      , SUM(Case when DAY_TYPE = 'C' then 1 else 0 end) as Trips_Before_Holiday\n",
    "      , SUM(Case when DAY_TYPE = 'A' then 1 else 0 end) as Trips_On_NormalDays\n",
    "FROM TaxiCSV\n",
    "\"\"\"\n",
    ").show()\n",
    "%time"
   ]
  },
  {
   "cell_type": "code",
   "execution_count": 42,
   "metadata": {},
   "outputs": [
    {
     "name": "stdout",
     "output_type": "stream",
     "text": [
      "+----------------+--------------------+-------------------+\n",
      "|Trips_On_Holiday|Trips_Before_Holiday|Trips_On_NormalDays|\n",
      "+----------------+--------------------+-------------------+\n",
      "|               0|                   0|            1710670|\n",
      "+----------------+--------------------+-------------------+\n",
      "\n",
      "CPU times: user 0 ns, sys: 0 ns, total: 0 ns\n",
      "Wall time: 6.91 µs\n"
     ]
    }
   ],
   "source": [
    "sqlContext.sql(\n",
    "\"\"\"\n",
    "SELECT SUM(Case when DAY_TYPE = 'B' then 1 else 0 end) as Trips_On_Holiday\n",
    "      , SUM(Case when DAY_TYPE = 'C' then 1 else 0 end) as Trips_Before_Holiday\n",
    "      , SUM(Case when DAY_TYPE = 'A' then 1 else 0 end) as Trips_On_NormalDays\n",
    "FROM TaxiParquet\n",
    "\"\"\"\n",
    ").show()\n",
    "%time"
   ]
  },
  {
   "cell_type": "markdown",
   "metadata": {},
   "source": [
    "## #2"
   ]
  },
  {
   "cell_type": "code",
   "execution_count": 43,
   "metadata": {},
   "outputs": [
    {
     "name": "stdout",
     "output_type": "stream",
     "text": [
      "+---------------+------------+\n",
      "|No_Missing_Data|Missing_Data|\n",
      "+---------------+------------+\n",
      "|        1710660|          10|\n",
      "+---------------+------------+\n",
      "\n",
      "CPU times: user 0 ns, sys: 0 ns, total: 0 ns\n",
      "Wall time: 27.2 µs\n"
     ]
    }
   ],
   "source": [
    "sqlContext.sql(\"\"\"SELECT SUM(Case when MISSING_DATA = false then 1 else 0 end) as No_Missing_Data\n",
    "      , SUM(Case when MISSING_DATA = true then 1 else 0 end) as Missing_Data\n",
    "FROM taxicsv\"\"\").show()\n",
    "%time"
   ]
  },
  {
   "cell_type": "code",
   "execution_count": 44,
   "metadata": {},
   "outputs": [
    {
     "name": "stdout",
     "output_type": "stream",
     "text": [
      "+---------------+------------+\n",
      "|No_Missing_Data|Missing_Data|\n",
      "+---------------+------------+\n",
      "|        1710660|          10|\n",
      "+---------------+------------+\n",
      "\n",
      "CPU times: user 0 ns, sys: 0 ns, total: 0 ns\n",
      "Wall time: 7.87 µs\n"
     ]
    }
   ],
   "source": [
    "sqlContext.sql(\"\"\"SELECT SUM(Case when MISSING_DATA = false then 1 else 0 end) as No_Missing_Data\n",
    "      , SUM(Case when MISSING_DATA = true then 1 else 0 end) as Missing_Data\n",
    "FROM taxiparquet\"\"\").show()\n",
    "%time"
   ]
  },
  {
   "cell_type": "code",
   "execution_count": null,
   "metadata": {},
   "outputs": [],
   "source": []
  }
 ],
 "metadata": {
  "kernelspec": {
   "display_name": "Python 3",
   "language": "python",
   "name": "python3"
  },
  "language_info": {
   "codemirror_mode": {
    "name": "ipython",
    "version": 2
   },
   "file_extension": ".py",
   "mimetype": "text/x-python",
   "name": "python",
   "nbconvert_exporter": "python",
   "pygments_lexer": "ipython2",
   "version": "2.7.14"
  }
 },
 "nbformat": 4,
 "nbformat_minor": 2
}
